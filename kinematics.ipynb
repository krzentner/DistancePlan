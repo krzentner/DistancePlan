{
 "cells": [
  {
   "cell_type": "code",
   "execution_count": 1,
   "metadata": {},
   "outputs": [],
   "source": [
    "import Pkg"
   ]
  },
  {
   "cell_type": "code",
   "execution_count": 2,
   "metadata": {},
   "outputs": [
    {
     "name": "stdout",
     "output_type": "stream",
     "text": [
      "\u001b[32m\u001b[1mActivating\u001b[22m\u001b[39m environment at `~/DistancePlan/Project.toml`\n"
     ]
    }
   ],
   "source": [
    "Pkg.activate(\".\")"
   ]
  },
  {
   "cell_type": "code",
   "execution_count": 3,
   "metadata": {},
   "outputs": [],
   "source": [
    "using Revise"
   ]
  },
  {
   "cell_type": "code",
   "execution_count": 4,
   "metadata": {},
   "outputs": [],
   "source": [
    "using StaticArrays"
   ]
  },
  {
   "cell_type": "code",
   "execution_count": 5,
   "metadata": {},
   "outputs": [],
   "source": [
    "using Rotations"
   ]
  },
  {
   "cell_type": "code",
   "execution_count": 6,
   "metadata": {},
   "outputs": [],
   "source": [
    "includet(\"src/DistancePlan.jl\")"
   ]
  },
  {
   "cell_type": "code",
   "execution_count": 7,
   "metadata": {},
   "outputs": [
    {
     "data": {
      "text/plain": [
       "Main.DistancePlan.Sphere([1.0 1.0], 2.0)"
      ]
     },
     "execution_count": 7,
     "metadata": {},
     "output_type": "execute_result"
    }
   ],
   "source": [
    "s1 = DistancePlan.Sphere([1. 1.], 2.)"
   ]
  },
  {
   "cell_type": "code",
   "execution_count": 8,
   "metadata": {},
   "outputs": [
    {
     "data": {
      "text/plain": [
       "Main.DistancePlan.Sphere([3.0 1.0], 1.0)"
      ]
     },
     "execution_count": 8,
     "metadata": {},
     "output_type": "execute_result"
    }
   ],
   "source": [
    "s2 = DistancePlan.Sphere([3. 1.], 1.)"
   ]
  },
  {
   "cell_type": "code",
   "execution_count": 9,
   "metadata": {},
   "outputs": [
    {
     "data": {
      "text/plain": [
       "2.0"
      ]
     },
     "execution_count": 9,
     "metadata": {},
     "output_type": "execute_result"
    }
   ],
   "source": [
    "d = DistancePlan.norm(s2.center - s1.center)"
   ]
  },
  {
   "cell_type": "code",
   "execution_count": 10,
   "metadata": {},
   "outputs": [
    {
     "data": {
      "text/plain": [
       "7.75"
      ]
     },
     "execution_count": 10,
     "metadata": {},
     "output_type": "execute_result"
    }
   ],
   "source": [
    "x = 2 * s1.radius ^ 2 - s2.radius ^ 2 / (2 * s1.radius)"
   ]
  },
  {
   "cell_type": "code",
   "execution_count": 11,
   "metadata": {},
   "outputs": [
    {
     "data": {
      "text/plain": [
       "cone_angle (generic function with 1 method)"
      ]
     },
     "execution_count": 11,
     "metadata": {},
     "output_type": "execute_result"
    }
   ],
   "source": [
    "function cone_angle(sphere_a, sphere_b)\n",
    "    assert(isapprox(sum((sphere_a.center - sphere_b.center) ^ 2), sphere_a.radius ^2))\n",
    "    # \"Align\" the spheres along the x axis, and take an arbitrary orthogonal y axis.\n",
    "    # Then we would have the following equations:\n",
    "    #   x^2 + y^2 = R^2\n",
    "    #   (x - R)^2 + y^2 = r^2\n",
    "    # Solving for y^2:\n",
    "    #   x^2 + y^2 = R^2         =>   y^2 = R^2 - x^2\n",
    "    #   (x - R)^2 + y^2 = r^2   =>   y^2 = r^2 - (x - R)^2\n",
    "    # Combining the equations:\n",
    "    #   R^2 - x^2 = r^2 - (x - R)^2\n",
    "    #   R^2 - x^2 - r^2 + (x^2 - 2xR + R^2) = 0\n",
    "    #   -x^2 + x^2 - 2Rx + 2R^2 - r^2 = 0\n",
    "    #   -2Rx = -2R^2 + r^2\n",
    "    #   x = (2R^2 - r^2) / 2R\n",
    "    x = (2 * sphere_a.radius ^ 2 - sphere_b.radius^2) / (2 * sphere_a.radius)\n",
    "    # Now we need the angle, so we use cos(x / R):\n",
    "    return cos(x / sphere_a.radius)\n",
    "end"
   ]
  },
  {
   "cell_type": "code",
   "execution_count": 12,
   "metadata": {},
   "outputs": [
    {
     "data": {
      "text/plain": [
       "lens_center (generic function with 1 method)"
      ]
     },
     "execution_count": 12,
     "metadata": {},
     "output_type": "execute_result"
    }
   ],
   "source": [
    "function lens_center(sphere_a, sphere_b)\n",
    "    offset = sphere_a.center - sphere_b.center\n",
    "    d = sqrt(sum(offset .^ 2))\n",
    "    # \"Align\" the spheres along the x axis, and take an arbitrary orthogonal y axis.\n",
    "    # Then we would have the following equations:\n",
    "    #   x^2 + y^2 = R^2\n",
    "    #   (x - d)^2 + y^2 = r^2\n",
    "    # Solving for y^2:\n",
    "    #   x^2 + y^2 = R^2         =>   y^2 = R^2 - x^2\n",
    "    #   (x - d)^2 + y^2 = r^2   =>   y^2 = r^2 - (x - d)^2\n",
    "    # Combining the equations:\n",
    "    #   R^2 - x^2 = r^2 - (x - R)^2\n",
    "    #   R^2 - x^2 - r^2 + (x^2 - 2xd + d^2) = 0\n",
    "    #   -x^2 + x^2 - 2dx + d^2 + R^2 - r^2 = 0\n",
    "    #   -2dx = -2R^2 + r^2\n",
    "    #   x = (d^2 + R^2 - r^2) / 2d\n",
    "    x = (d ^ 2 + sphere_a.radius ^ 2 - sphere_b.radius^2) / (2 * d)\n",
    "    return sphere_a.center .+ offset * (x / d)\n",
    "end"
   ]
  },
  {
   "cell_type": "code",
   "execution_count": 139,
   "metadata": {},
   "outputs": [
    {
     "data": {
      "text/plain": [
       "shared_sphere (generic function with 1 method)"
      ]
     },
     "execution_count": 139,
     "metadata": {},
     "output_type": "execute_result"
    }
   ],
   "source": [
    "function shared_sphere(sphere_a, sphere_b)\n",
    "    offset = sphere_a.center - sphere_b.center\n",
    "    d = sqrt(sum(offset .^ 2))\n",
    "    if d == 0.\n",
    "        if sphere_a.radius >= sphere_b.radius\n",
    "            return sphere_b\n",
    "        else\n",
    "            return sphere_a\n",
    "        end\n",
    "    end\n",
    "    # \"Align\" the spheres along the x axis, and take an arbitrary orthogonal y axis.\n",
    "    # Then we would have the following equations:\n",
    "    #   x^2 + y^2 = R^2\n",
    "    #   (x - d)^2 + y^2 = r^2\n",
    "    # Solving for y^2:\n",
    "    #   x^2 + y^2 = R^2         =>   y^2 = R^2 - x^2\n",
    "    #   (x - d)^2 + y^2 = r^2   =>   y^2 = r^2 - (x - d)^2\n",
    "    # Combining the equations:\n",
    "    #   R^2 - x^2 = r^2 - (x - R)^2\n",
    "    #   R^2 - x^2 - r^2 + (x^2 - 2xd + d^2) = 0\n",
    "    #   -x^2 + x^2 - 2dx + d^2 + R^2 - r^2 = 0\n",
    "    #   -2dx = -2R^2 + r^2\n",
    "    #   x = (d^2 + R^2 - r^2) / 2d\n",
    "    x = (d ^ 2 + sphere_a.radius ^ 2 - sphere_b.radius^2) / (2 * d)\n",
    "    point = sphere_a.center .+ offset * (x / d)\n",
    "    y = sqrt(abs(sphere_a.radius ^ 2 - x ^ 2))\n",
    "    result_sphere = DistancePlan.Sphere(point, y)\n",
    "    return result_sphere\n",
    "end"
   ]
  },
  {
   "cell_type": "code",
   "execution_count": 14,
   "metadata": {},
   "outputs": [],
   "source": [
    "using LinearAlgebra"
   ]
  },
  {
   "cell_type": "code",
   "execution_count": 45,
   "metadata": {},
   "outputs": [
    {
     "ename": "ErrorException",
     "evalue": "invalid redefinition of constant Arm",
     "output_type": "error",
     "traceback": [
      "invalid redefinition of constant Arm",
      "",
      "Stacktrace:",
      " [1] top-level scope at /home/kr/.julia/packages/JuliaInterpreter/ATirK/src/construct.jl:52"
     ]
    }
   ],
   "source": [
    "struct Arm\n",
    "    lengths\n",
    "    joint_axes\n",
    "#     joint_lows\n",
    "#     joint_highs\n",
    "end"
   ]
  },
  {
   "cell_type": "code",
   "execution_count": 16,
   "metadata": {},
   "outputs": [
    {
     "data": {
      "text/plain": [
       "11-element Array{Float64,1}:\n",
       " 1.0\n",
       " 1.2\n",
       " 1.4\n",
       " 1.6\n",
       " 1.8\n",
       " 2.0\n",
       " 2.2\n",
       " 2.4\n",
       " 2.6\n",
       " 2.8\n",
       " 3.0"
      ]
     },
     "execution_count": 16,
     "metadata": {},
     "output_type": "execute_result"
    }
   ],
   "source": [
    "Vector(s1.center[1]:.2:s2.center[1])"
   ]
  },
  {
   "cell_type": "code",
   "execution_count": 17,
   "metadata": {},
   "outputs": [
    {
     "data": {
      "text/plain": [
       "query_spheres (generic function with 2 methods)"
      ]
     },
     "execution_count": 17,
     "metadata": {},
     "output_type": "execute_result"
    }
   ],
   "source": [
    "function query_spheres(joint_locations, obstacles, points_per_link=5)\n",
    "    Channel() do channel\n",
    "        for i in 1:(length(joint_locations) - 1)\n",
    "            start = joint_locations[i]\n",
    "            stop = joint_locations[i + 1]\n",
    "            for point in LinRange(start, stop, points_per_link)\n",
    "                d = DistancePlan.distance(point, obstacles)\n",
    "                put!(channel, (i, DistancePlan.Sphere(point, d)))\n",
    "            end\n",
    "        end\n",
    "    end\n",
    "end"
   ]
  },
  {
   "cell_type": "code",
   "execution_count": 18,
   "metadata": {},
   "outputs": [
    {
     "name": "stdout",
     "output_type": "stream",
     "text": [
      "1: Main.DistancePlan.Sphere([0.0, 0.0], 0.7810249675906654)\n",
      "1: Main.DistancePlan.Sphere([0.25, 0.25], 0.4301162633521313)\n",
      "1: Main.DistancePlan.Sphere([0.5, 0.5], 0.09999999999999998)\n",
      "1: Main.DistancePlan.Sphere([0.75, 0.75], 0.29154759474226505)\n",
      "1: Main.DistancePlan.Sphere([1.0, 1.0], 0.6403124237432849)\n",
      "2: Main.DistancePlan.Sphere([1.0, 1.0], 0.6403124237432849)\n",
      "2: Main.DistancePlan.Sphere([1.25, 1.0], 0.85)\n",
      "2: Main.DistancePlan.Sphere([1.5, 1.0], 1.077032961426901)\n",
      "2: Main.DistancePlan.Sphere([1.75, 1.0], 1.3124404748406688)\n",
      "2: Main.DistancePlan.Sphere([2.0, 1.0], 1.5524174696260025)\n"
     ]
    }
   ],
   "source": [
    "for (link_number, sphere) in query_spheres([[0., 0.], [1., 1.], [2., 1.]], [[.5, .6]])\n",
    "    println(link_number, \": \", sphere)\n",
    "end"
   ]
  },
  {
   "cell_type": "code",
   "execution_count": 19,
   "metadata": {},
   "outputs": [
    {
     "data": {
      "text/plain": [
       "3-element LinRange{Array{Float64,2}}:\n",
       " [1.0 1.0],[2.0 1.0],[3.0 1.0]"
      ]
     },
     "execution_count": 19,
     "metadata": {},
     "output_type": "execute_result"
    }
   ],
   "source": [
    "LinRange(s1.center, s2.center, 3)"
   ]
  },
  {
   "cell_type": "markdown",
   "metadata": {},
   "source": [
    "Generally, the kinematic volume planning algorithm extension step works as follows:\n",
    "\n",
    "For each linkage, sample distances along that linkage, producing a sequence of hyper-spheres.\n",
    "For each pair of adjacent hyper-spheres in the sequence, compute the largest hyper-sphere which overlaps both of them, by finding the hyper-sphere one dimension lower. These overlap hyper-spheres are called the \"safe spheres.\"\n",
    "For each joint, compute the angle that joint can move in each safe sphere after it in the kinematic chain. Take the smallest of these angles for that joint. That is the joints \"safe angle.\"\n",
    "\n",
    "Save all joints patch angles (as well as the central angle) as a patch into the patch tree.\n",
    "\n",
    "When executing motion within the patch, the sum of angles divided by their respective safe angles should be less than one. This produces a diagonal patch in the angle space.\n",
    "\n",
    "The reason this works is that change in angle corresponds to change in the distance of the linkage to the safe circle. Specifically, it corresponds to a portion of the distance equal the ratio of the angle over the safe angle. Alternatively, this can be seen as adding the fractions of the arcs together which the different joints would sweep out. Since the arcs aren't overlapping (assuming linkages have non-zero length), the length of their arc lengths in sequence will always be greater than the distance between their joined endpoints (i.e. the triangle inequality). However, this bound is not tight. For example, linkages at orthogonal angles can get arbitrarily close to their full individual ranges of motion. Unfortunately, performing projections on a shape that tightly bounds the safe angle space corresponding to the safe spheres would be quite difficult, since every such shape would be different. This bound can be arbitrarily close to tight, if the two joints are close to each other, and the second linkage is very long."
   ]
  },
  {
   "cell_type": "code",
   "execution_count": 20,
   "metadata": {},
   "outputs": [],
   "source": [
    "struct PatchTree\n",
    "  centers::Vector\n",
    "  patch_sizes::Vector\n",
    "  children::Vector{Vector{Int}}\n",
    "  parent::Vector{Int}\n",
    "  PatchTree() = new([], [], [], [])\n",
    "end"
   ]
  },
  {
   "cell_type": "code",
   "execution_count": 170,
   "metadata": {},
   "outputs": [
    {
     "data": {
      "text/plain": [
       "forward_kinematics (generic function with 1 method)"
      ]
     },
     "execution_count": 170,
     "metadata": {},
     "output_type": "execute_result"
    }
   ],
   "source": [
    "function forward_kinematics(arm::Arm, origin, joint_angles)::Vector\n",
    "    points = [origin]\n",
    "    current_rotation = one(AngleAxis)\n",
    "    for (joint_len, joint_axis, angle) in zip(arm.lengths, arm.joint_axes, joint_angles)\n",
    "        joint_rotation = AngleAxis(angle, joint_axis[1], joint_axis[2], joint_axis[3])\n",
    "        current_rotation = current_rotation * joint_rotation\n",
    "#         current_rotation = joint_rotation * current_rotation\n",
    "        linkage = SVector(joint_len, 0., 0.)\n",
    "        rotated_linkage = current_rotation * linkage\n",
    "        point = points[length(points)] .+ rotated_linkage\n",
    "        push!(points, point)\n",
    "    end\n",
    "    return points\n",
    "end"
   ]
  },
  {
   "cell_type": "code",
   "execution_count": 234,
   "metadata": {},
   "outputs": [
    {
     "data": {
      "text/plain": [
       "Arm([2.0, 2.0], SArray{Tuple{3},Float64,1,3}[[0.0, 0.0, 1.0], [0.0, 1.0, 0.0]], [0.0, 0.0], [6.283185307179586, 6.283185307179586])"
      ]
     },
     "execution_count": 234,
     "metadata": {},
     "output_type": "execute_result"
    }
   ],
   "source": [
    "arm = Arm([2., 2.], [SVector(0., 0., 1.), SVector(0., 1., 0.)], [0., 0.], [2π, 2π])"
   ]
  },
  {
   "cell_type": "code",
   "execution_count": 23,
   "metadata": {},
   "outputs": [
    {
     "name": "stdout",
     "output_type": "stream",
     "text": [
      "[2.220446049250313e-16 -1.0 0.0; 1.0 2.220446049250313e-16 0.0; 0.0 0.0 1.0]\n",
      "[1.0 0.0 0.0; 0.0 1.0 0.0; 0.0 0.0 1.0]\n"
     ]
    },
    {
     "data": {
      "text/plain": [
       "3-element Array{SArray{Tuple{3},Float64,1,3},1}:\n",
       " [0.0, 1.0, 0.0]                  \n",
       " [4.440892098500626e-16, 3.0, 0.0]\n",
       " [2.0000000000000004, 3.0, 0.0]   "
      ]
     },
     "execution_count": 23,
     "metadata": {},
     "output_type": "execute_result"
    }
   ],
   "source": [
    "forward_kinematics(arm, SVector(0., 1., 0.), [π/2, -π/2])"
   ]
  },
  {
   "cell_type": "code",
   "execution_count": 24,
   "metadata": {},
   "outputs": [
    {
     "name": "stdout",
     "output_type": "stream",
     "text": [
      "[1.0 0.0 0.0; 0.0 1.0 0.0; 0.0 0.0 1.0]\n",
      "[1.0 0.0 0.0; 0.0 1.0 0.0; 0.0 0.0 1.0]\n"
     ]
    },
    {
     "data": {
      "text/plain": [
       "3-element Array{SArray{Tuple{3},Float64,1,3},1}:\n",
       " [0.0, 1.0, 0.0]\n",
       " [2.0, 1.0, 0.0]\n",
       " [4.0, 1.0, 0.0]"
      ]
     },
     "execution_count": 24,
     "metadata": {},
     "output_type": "execute_result"
    }
   ],
   "source": [
    "forward_kinematics(arm, SVector(0., 1., 0.), [0., 0.])"
   ]
  },
  {
   "cell_type": "code",
   "execution_count": 83,
   "metadata": {},
   "outputs": [
    {
     "name": "stderr",
     "output_type": "stream",
     "text": [
      "┌ Info: Serving MeshCat visualizer at http://127.0.0.1:8701\n",
      "└ @ MeshCat /home/kr/.julia/packages/MeshCat/GMobF/src/servers.jl:24\n"
     ]
    },
    {
     "data": {
      "text/plain": [
       "Process(`\u001b[4mxdg-open\u001b[24m \u001b[4mhttp://127.0.0.1:8701\u001b[24m`, ProcessExited(0))"
      ]
     },
     "execution_count": 83,
     "metadata": {},
     "output_type": "execute_result"
    },
    {
     "name": "stderr",
     "output_type": "stream",
     "text": [
      "Error handling websocket connection:\n",
      "\u001b[91mTaskFailedException:\u001b[39m\n",
      "\u001b[91m\u001b[91mWebSockets.WebSocketClosedError(\"ws|server respond to OPCODE_CLOSE 1001:Going Away\")\u001b[39m\u001b[39m\n",
      "\u001b[91mStacktrace:\u001b[39m\n",
      "\u001b[91m [1] \u001b[1mhandle_control_frame\u001b[22m\u001b[1m(\u001b[22m::WebSockets.WebSocket{Sockets.TCPSocket}, ::WebSockets.WebSocketFragment\u001b[1m)\u001b[22m at \u001b[1m/home/kr/.julia/packages/WebSockets/pc4iW/src/WebSockets.jl:376\u001b[22m\u001b[39m\n",
      "\u001b[91m [2] \u001b[1mread\u001b[22m\u001b[1m(\u001b[22m::WebSockets.WebSocket{Sockets.TCPSocket}\u001b[1m)\u001b[22m at \u001b[1m/home/kr/.julia/packages/WebSockets/pc4iW/src/WebSockets.jl:452\u001b[22m\u001b[39m\n",
      "\u001b[91m [3] \u001b[1mmacro expansion\u001b[22m at \u001b[1m/home/kr/.julia/packages/WebIO/2mZPb/src/providers/mux.jl:38\u001b[22m [inlined]\u001b[39m\n",
      "\u001b[91m [4] \u001b[1m(::WebIO.var\"#109#110\"{WebSockets.WebSocket{Sockets.TCPSocket},WebIO.WebSockConnection})\u001b[22m\u001b[1m(\u001b[22m\u001b[1m)\u001b[22m at \u001b[1m./task.jl:333\u001b[22m\u001b[39m\n",
      "Stacktrace:\n",
      " [1] \u001b[1mwait\u001b[22m at \u001b[1m./task.jl:251\u001b[22m [inlined]\n",
      " [2] \u001b[1mcreate_socket\u001b[22m\u001b[1m(\u001b[22m::Dict{Any,Any}\u001b[1m)\u001b[22m at \u001b[1m/home/kr/.julia/packages/WebIO/2mZPb/src/providers/mux.jl:44\u001b[22m\n",
      " [3] \u001b[1m(::Mux.var\"#5#6\"{Mux.var\"#28#29\"{Array{SubString{String},1}},typeof(WebIO.create_socket)})\u001b[22m\u001b[1m(\u001b[22m::Function, ::Dict{Any,Any}\u001b[1m)\u001b[22m at \u001b[1m/home/kr/.julia/packages/Mux/FeATY/src/Mux.jl:17\u001b[22m\n",
      " [4] \u001b[1m#1\u001b[22m at \u001b[1m/home/kr/.julia/packages/Mux/FeATY/src/Mux.jl:10\u001b[22m [inlined]\n",
      " [5] \u001b[1msplitquery\u001b[22m\u001b[1m(\u001b[22m::Mux.var\"#1#2\"{Mux.var\"#5#6\"{Mux.var\"#28#29\"{Array{SubString{String},1}},typeof(WebIO.create_socket)},Mux.var\"#1#2\"{typeof(Mux.wclose),Mux.var\"#1#2\"{Mux.var\"#18#19\"{Mux.var\"#22#23\"{Symbol,Int64}},Mux.var\"#20#21\"{String}}}}, ::Dict{Any,Any}\u001b[1m)\u001b[22m at \u001b[1m/home/kr/.julia/packages/Mux/FeATY/src/basics.jl:34\u001b[22m\n",
      " [6] \u001b[1m#1\u001b[22m at \u001b[1m/home/kr/.julia/packages/Mux/FeATY/src/Mux.jl:10\u001b[22m [inlined]\n",
      " [7] \u001b[1mwcatch\u001b[22m\u001b[1m(\u001b[22m::Mux.var\"#1#2\"{typeof(Mux.splitquery),Mux.var\"#1#2\"{Mux.var\"#5#6\"{Mux.var\"#28#29\"{Array{SubString{String},1}},typeof(WebIO.create_socket)},Mux.var\"#1#2\"{typeof(Mux.wclose),Mux.var\"#1#2\"{Mux.var\"#18#19\"{Mux.var\"#22#23\"{Symbol,Int64}},Mux.var\"#20#21\"{String}}}}}, ::Dict{Any,Any}\u001b[1m)\u001b[22m at \u001b[1m/home/kr/.julia/packages/Mux/FeATY/src/websockets_integration.jl:12\u001b[22m\n",
      " [8] \u001b[1m#1\u001b[22m at \u001b[1m/home/kr/.julia/packages/Mux/FeATY/src/Mux.jl:10\u001b[22m [inlined]\n",
      " [9] \u001b[1mtodict\u001b[22m at \u001b[1m/home/kr/.julia/packages/Mux/FeATY/src/basics.jl:25\u001b[22m [inlined]\n",
      " [10] \u001b[1m#3\u001b[22m at \u001b[1m/home/kr/.julia/packages/Mux/FeATY/src/Mux.jl:14\u001b[22m [inlined] (repeats 2 times)\n",
      " [11] \u001b[1m(::Mux.var\"#1#2\"{Mux.var\"#3#4\"{Mux.var\"#3#4\"{typeof(Mux.todict),typeof(Mux.wcatch)},typeof(Mux.splitquery)},Mux.var\"#1#2\"{Mux.var\"#5#6\"{Mux.var\"#28#29\"{Array{SubString{String},1}},typeof(WebIO.create_socket)},Mux.var\"#1#2\"{typeof(Mux.wclose),Mux.var\"#1#2\"{Mux.var\"#18#19\"{Mux.var\"#22#23\"{Symbol,Int64}},Mux.var\"#20#21\"{String}}}}})\u001b[22m\u001b[1m(\u001b[22m::Tuple{HTTP.Messages.Request,WebSockets.WebSocket{Sockets.TCPSocket}}\u001b[1m)\u001b[22m at \u001b[1m/home/kr/.julia/packages/Mux/FeATY/src/Mux.jl:10\u001b[22m\n",
      " [12] \u001b[1m(::Mux.var\"#9#10\"{Mux.App})\u001b[22m\u001b[1m(\u001b[22m::HTTP.Messages.Request, ::WebSockets.WebSocket{Sockets.TCPSocket}\u001b[1m)\u001b[22m at \u001b[1m/home/kr/.julia/packages/Mux/FeATY/src/server.jl:49\u001b[22m\n",
      " [13] \u001b[1mupgrade\u001b[22m\u001b[1m(\u001b[22m::Mux.var\"#9#10\"{Mux.App}, ::HTTP.Streams.Stream{HTTP.Messages.Request,HTTP.ConnectionPool.Transaction{Sockets.TCPSocket}}\u001b[1m)\u001b[22m at \u001b[1m/home/kr/.julia/packages/WebSockets/pc4iW/src/HTTP.jl:201\u001b[22m\n",
      " [14] \u001b[1m(::WebSockets.var\"#_servercoroutine#11\"{WebSockets.ServerWS})\u001b[22m\u001b[1m(\u001b[22m::HTTP.Streams.Stream{HTTP.Messages.Request,HTTP.ConnectionPool.Transaction{Sockets.TCPSocket}}\u001b[1m)\u001b[22m at \u001b[1m/home/kr/.julia/packages/WebSockets/pc4iW/src/HTTP.jl:370\u001b[22m\n",
      " [15] \u001b[1mmacro expansion\u001b[22m at \u001b[1m/home/kr/.julia/packages/HTTP/lZVI1/src/Servers.jl:360\u001b[22m [inlined]\n",
      " [16] \u001b[1m(::HTTP.Servers.var\"#13#14\"{WebSockets.var\"#_servercoroutine#11\"{WebSockets.ServerWS},HTTP.ConnectionPool.Transaction{Sockets.TCPSocket},HTTP.Streams.Stream{HTTP.Messages.Request,HTTP.ConnectionPool.Transaction{Sockets.TCPSocket}}})\u001b[22m\u001b[1m(\u001b[22m\u001b[1m)\u001b[22m at \u001b[1m./task.jl:333\u001b[22m"
     ]
    }
   ],
   "source": [
    "using MeshCat\n",
    "vis = Visualizer()\n",
    "open(vis)"
   ]
  },
  {
   "cell_type": "code",
   "execution_count": 26,
   "metadata": {},
   "outputs": [
    {
     "name": "stderr",
     "output_type": "stream",
     "text": [
      "┌ Info: Using default Jupyter executable at `/home/kr/.virtualenvs/julia/bin/jupyter`; to use a different executable, see the documentation by running `?WebIO.install_jupyter_labextension`.\n",
      "└ @ WebIO /home/kr/.julia/packages/WebIO/2mZPb/deps/jupyter.jl:141\n",
      "┌ Error: error handling request\n",
      "│   exception = (Base.IOError(\"stream is closed or unusable\", 0), Base.StackTraces.StackFrame[check_open at stream.jl:328 [inlined], uv_write_async(::Sockets.TCPSocket, ::Ptr{UInt8}, ::UInt64) at stream.jl:961, uv_write(::Sockets.TCPSocket, ::Ptr{UInt8}, ::UInt64) at stream.jl:924, unsafe_write(::Sockets.TCPSocket, ::Ptr{UInt8}, ::UInt64) at stream.jl:1007, unsafe_write at ConnectionPool.jl:134 [inlined], macro expansion at gcutils.jl:91 [inlined], write at io.jl:186 [inlined], closebody at Streams.jl:111 [inlined], closewrite(::HTTP.Streams.Stream{HTTP.Messages.Request,HTTP.ConnectionPool.Transaction{Sockets.TCPSocket}}) at Streams.jl:126, (::HTTP.Servers.var\"#13#14\"{WebSockets.var\"#_servercoroutine#11\"{WebSockets.ServerWS},HTTP.ConnectionPool.Transaction{Sockets.TCPSocket},HTTP.Streams.Stream{HTTP.Messages.Request,HTTP.ConnectionPool.Transaction{Sockets.TCPSocket}}})() at task.jl:333])\n",
      "└ @ HTTP.Servers /home/kr/.julia/packages/HTTP/lZVI1/src/Servers.jl:364\n"
     ]
    },
    {
     "name": "stdout",
     "output_type": "stream",
     "text": [
      "An error occured.\n",
      "ValueError: No linked package for @webio/webio\n",
      "See the log file for details:  /tmp/jupyterlab-debug-0zxj5kw_.log\n"
     ]
    },
    {
     "name": "stderr",
     "output_type": "stream",
     "text": [
      "Uninstalling @webio/jupyter-lab-provider from /home/kr/.virtualenvs/julia/share/jupyter/lab/extensions\n"
     ]
    },
    {
     "name": "stdout",
     "output_type": "stream",
     "text": []
    },
    {
     "name": "stderr",
     "output_type": "stream",
     "text": [
      "[LabBuildApp] JupyterLab 1.2.1\n",
      "[LabBuildApp] Building in /home/kr/.virtualenvs/julia/share/jupyter/lab\n"
     ]
    },
    {
     "name": "stdout",
     "output_type": "stream",
     "text": [
      "-"
     ]
    },
    {
     "name": "stderr",
     "output_type": "stream",
     "text": [
      "[LabBuildApp] Building jupyterlab assets (build:prod:minimize)\n"
     ]
    },
    {
     "name": "stdout",
     "output_type": "stream",
     "text": [
      "\b"
     ]
    },
    {
     "data": {
      "text/plain": [
       "Process(`\u001b[4m/home/kr/.virtualenvs/julia/bin/jupyter\u001b[24m \u001b[4mlab\u001b[24m \u001b[4mbuild\u001b[24m`, ProcessExited(0))"
      ]
     },
     "execution_count": 26,
     "metadata": {},
     "output_type": "execute_result"
    }
   ],
   "source": [
    "using WebIO, IJulia\n",
    "WebIO.install_jupyter_labextension()"
   ]
  },
  {
   "cell_type": "code",
   "execution_count": 27,
   "metadata": {},
   "outputs": [],
   "source": [
    "using GeometryTypes\n",
    "using Colors"
   ]
  },
  {
   "cell_type": "code",
   "execution_count": 28,
   "metadata": {},
   "outputs": [
    {
     "name": "stdout",
     "output_type": "stream",
     "text": [
      "[0.7071067811865475 -0.7071067811865476 0.0; 0.7071067811865476 0.7071067811865475 0.0; 0.0 0.0 1.0]\n",
      "[0.9659258262890685 0.25881904510252063 0.0; -0.25881904510252063 0.9659258262890685 -0.0; -0.0 0.0 1.0000000000000002]\n"
     ]
    }
   ],
   "source": [
    "delete!(vis)\n",
    "blue_material = MeshPhongMaterial(color=RGB(0, 0, 1))\n",
    "green_material = MeshPhongMaterial(color=RGBA(0, 1, 0, 0.1))\n",
    "red_material = MeshPhongMaterial(color=RGB(1, 0, 0))\n",
    "joint_points = forward_kinematics(arm, SVector(0., 0., 1.), [π/4, -π/3])\n",
    "for (i, v) in enumerate(joint_points)\n",
    "    setobject!(vis[\"arm\"][string(i)], HyperSphere(Point(v[1], v[2], v[3]), .1), blue_material)\n",
    "end\n",
    "for i in 1:(length(joint_points) - 1)\n",
    "    start = joint_points[i]\n",
    "    stop = joint_points[i + 1]\n",
    "    for (j, point) in enumerate(LinRange(start, stop, 20))\n",
    "        setobject!(vis[\"arm_line\"][string(i)][string(j)], HyperSphere(Point(point), 0.01), blue_material)\n",
    "    end\n",
    "end\n",
    "obstacles = [[.5, .6, .7], [3., 1., 2.], [2., 1., 2.]]\n",
    "for (i, (link, sphere)) in enumerate(query_spheres(joint_points, obstacles))\n",
    "    setobject!(vis[\"samples\"][string(i)], HyperSphere(Point(sphere.center), sphere.radius), green_material)\n",
    "end\n",
    "for (i, obs) in enumerate(obstacles)\n",
    "    setobject!(vis[\"obstacles\"][string(i)], HyperSphere(Point{3}(obs), 0.05), red_material)\n",
    "end"
   ]
  },
  {
   "cell_type": "code",
   "execution_count": 156,
   "metadata": {},
   "outputs": [
    {
     "data": {
      "text/plain": [
       "nearest_patch (generic function with 1 method)"
      ]
     },
     "execution_count": 156,
     "metadata": {},
     "output_type": "execute_result"
    }
   ],
   "source": [
    "function nearest_patch(tree::PatchTree, point)::Int\n",
    "    return argmin([patch_distance(center, patch_size, point)\n",
    "                   for (center, patch_size) in zip(tree.centers, tree.patch_sizes)])\n",
    "end"
   ]
  },
  {
   "cell_type": "code",
   "execution_count": 157,
   "metadata": {},
   "outputs": [
    {
     "data": {
      "text/plain": [
       "relu (generic function with 1 method)"
      ]
     },
     "execution_count": 157,
     "metadata": {},
     "output_type": "execute_result"
    }
   ],
   "source": [
    "function relu(x)\n",
    "    if x >= 0.\n",
    "        return x\n",
    "    else\n",
    "        return 0.\n",
    "    end\n",
    "end"
   ]
  },
  {
   "cell_type": "code",
   "execution_count": 158,
   "metadata": {},
   "outputs": [
    {
     "data": {
      "text/plain": [
       "patch_distance (generic function with 2 methods)"
      ]
     },
     "execution_count": 158,
     "metadata": {},
     "output_type": "execute_result"
    }
   ],
   "source": [
    "function patch_distance(center, patch_size, point)\n",
    "    return sum(relu.(abs.(center .- point) .- patch_size))\n",
    "end"
   ]
  },
  {
   "cell_type": "code",
   "execution_count": 192,
   "metadata": {},
   "outputs": [
    {
     "data": {
      "text/plain": [
       "project (generic function with 1 method)"
      ]
     },
     "execution_count": 192,
     "metadata": {},
     "output_type": "execute_result"
    }
   ],
   "source": [
    "function project(tree::PatchTree, patch::Int, point)\n",
    "    center = tree.centers[patch]\n",
    "    patch_size = tree.patch_sizes[patch]\n",
    "    rel_point = abs.((point .- center) ./ patch_size)\n",
    "    max_coord = maximum(rel_point)\n",
    "#     println(\"max_coord: \", max_coord)\n",
    "    signs = (1e-6 .+ (point .- center)) ./ (1e-6 .+ abs.(point .- center))\n",
    "#     println(\"signs: \", signs)\n",
    "#     println(\"center: \", center)\n",
    "    offset = (signs .* abs.(rel_point .- max_coord))\n",
    "#     println(\"offset: \", offset)\n",
    "    projection = offset .+ center\n",
    "#     println(\"projection: \", projection)\n",
    "    return projection\n",
    "end"
   ]
  },
  {
   "cell_type": "code",
   "execution_count": 210,
   "metadata": {},
   "outputs": [
    {
     "data": {
      "text/plain": [
       "draw_free_spheres (generic function with 1 method)"
      ]
     },
     "execution_count": 210,
     "metadata": {},
     "output_type": "execute_result"
    }
   ],
   "source": [
    "function draw_joint_points(joint_points; prefix=\"arm\")\n",
    "    blue_material = MeshPhongMaterial(color=RGB(0, 0, 1))\n",
    "    for (i, v) in enumerate(joint_points)\n",
    "        setobject!(vis[prefix][string(i)], HyperSphere(Point(v[1], v[2], v[3]), .1), blue_material)\n",
    "    end\n",
    "    for i in 1:(length(joint_points) - 1)\n",
    "        start = joint_points[i]\n",
    "        stop = joint_points[i + 1]\n",
    "        for (j, point) in enumerate(LinRange(start, stop, 20))\n",
    "            setobject!(vis[prefix * \"-line\"][string(i)][string(j)], HyperSphere(Point{3}(point), 0.01), blue_material)\n",
    "        end\n",
    "    end\n",
    "end\n",
    "\n",
    "function draw_obstacles(obstacles)\n",
    "    red_material = MeshPhongMaterial(color=RGB(1, 0, 0))\n",
    "    for (i, obs) in enumerate(obstacles)\n",
    "        setobject!(vis[\"obstacles\"][string(i)], HyperSphere(Point{3}(obs), 0.05), red_material)\n",
    "    end\n",
    "end\n",
    "\n",
    "function draw_free_spheres(free_spheres)\n",
    "    green_material = MeshPhongMaterial(color=RGBA(0, 1, 0, 0.1))\n",
    "    for (i, (link, sphere)) in enumerate(free_spheres)\n",
    "        setobject!(vis[\"samples\"][string(i)], HyperSphere(Point{3}(sphere.center), sphere.radius), green_material)\n",
    "    end\n",
    "end"
   ]
  },
  {
   "cell_type": "code",
   "execution_count": 198,
   "metadata": {},
   "outputs": [
    {
     "data": {
      "text/plain": [
       "configuration_distance (generic function with 1 method)"
      ]
     },
     "execution_count": 198,
     "metadata": {},
     "output_type": "execute_result"
    }
   ],
   "source": [
    "function configuration_distance(arm::Arm, origin, joint_angles, obstacles)\n",
    "#     draw_obstacles(obstacles)\n",
    "    \n",
    "    joint_points = forward_kinematics(arm, origin, joint_angles)\n",
    "#     draw_joint_points(joint_points)\n",
    "    \n",
    "    free_spheres = collect(query_spheres(joint_points, obstacles))\n",
    "#     draw_free_spheres(free_spheres)\n",
    "    \n",
    "    joint_safe_angles = arm.joint_highs - arm.joint_lows\n",
    "    for i in 1:(length(free_spheres) - 1)\n",
    "        safe_sphere = shared_sphere(free_spheres[i][2], free_spheres[i + 1][2])\n",
    "        for joint in 1:free_spheres[i][1]\n",
    "            joint_safe_angles[joint] = min(joint_safe_angles[joint],\n",
    "                abs(tan(safe_sphere.radius / \n",
    "                        sum(joint_points[joint] .- safe_sphere.center) .^ 2)))\n",
    "        end\n",
    "    end\n",
    "#     println(\"joint_angles \", joint_angles)\n",
    "#     println(\"joint_safe_angles \", joint_safe_angles)\n",
    "    return joint_safe_angles\n",
    "end"
   ]
  },
  {
   "cell_type": "code",
   "execution_count": 162,
   "metadata": {},
   "outputs": [
    {
     "data": {
      "text/plain": [
       "sample (generic function with 1 method)"
      ]
     },
     "execution_count": 162,
     "metadata": {},
     "output_type": "execute_result"
    }
   ],
   "source": [
    "function sample(bounds)\n",
    "  r = rand(length(bounds.highs))\n",
    "  return Vector((bounds.highs .- bounds.lows) .* r .+ bounds.lows)\n",
    "end"
   ]
  },
  {
   "cell_type": "code",
   "execution_count": 193,
   "metadata": {},
   "outputs": [
    {
     "data": {
      "text/plain": [
       "patch_tree_step! (generic function with 1 method)"
      ]
     },
     "execution_count": 193,
     "metadata": {},
     "output_type": "execute_result"
    }
   ],
   "source": [
    "function patch_tree_step!(tree::PatchTree, arm::Arm, origin, bounds,\n",
    "        obstacles::Vector; patch_size_min=π/64) where {N}\n",
    "    x = sample(bounds)\n",
    "    near_patch = nearest_patch(tree, x)\n",
    "    x_new = project(tree, near_patch, x)\n",
    "#     println(\"x_new: \", x_new)\n",
    "    patch_size = configuration_distance(arm, origin, x_new, obstacles)\n",
    "    if minimum(patch_size) >= patch_size_min\n",
    "        push_patch!(tree, near_patch, x_new, patch_size)\n",
    "    end\n",
    "end"
   ]
  },
  {
   "cell_type": "code",
   "execution_count": 164,
   "metadata": {},
   "outputs": [
    {
     "data": {
      "text/plain": [
       "push_patch! (generic function with 1 method)"
      ]
     },
     "execution_count": 164,
     "metadata": {},
     "output_type": "execute_result"
    }
   ],
   "source": [
    "function push_patch!(tree::PatchTree, parent, center, patch_size)\n",
    "    child = 1 + length(tree.parent)\n",
    "    push!(tree.centers, center)\n",
    "    push!(tree.patch_sizes, patch_size)\n",
    "    push!(tree.parent, parent)\n",
    "    push!(tree.children, [])\n",
    "    push!(tree.children[parent], child)\n",
    "end"
   ]
  },
  {
   "cell_type": "code",
   "execution_count": 165,
   "metadata": {},
   "outputs": [
    {
     "data": {
      "text/plain": [
       "get_path (generic function with 1 method)"
      ]
     },
     "execution_count": 165,
     "metadata": {},
     "output_type": "execute_result"
    }
   ],
   "source": [
    "function get_path(tree, last_idx::Int)::Vector\n",
    "  path = [tree.centers[last_idx]]\n",
    "  while last_idx != 1\n",
    "    last_idx = tree.parent[last_idx]\n",
    "    pushfirst!(path, tree.centers[last_idx])\n",
    "  end\n",
    "  return path\n",
    "end"
   ]
  },
  {
   "cell_type": "code",
   "execution_count": 244,
   "metadata": {},
   "outputs": [
    {
     "data": {
      "text/plain": [
       "patch_tree_goal (generic function with 1 method)"
      ]
     },
     "execution_count": 244,
     "metadata": {},
     "output_type": "execute_result"
    }
   ],
   "source": [
    "function patch_tree_goal(arm_origin, arm::Arm, initial_angles, bounds, obstacles, goal; patch_size_min=π/8)\n",
    "  tree = PatchTree()\n",
    "  patch_size = configuration_distance(arm, arm_origin, initial_angles, obstacles)\n",
    "  push_patch!(tree, 1, initial_angles, patch_size)\n",
    "  for i in 1:100000\n",
    "#     println(\"tree: \", tree)\n",
    "    gidx = nearest_patch(tree, goal)\n",
    "    dist = patch_distance(tree.centers[gidx], tree.patch_sizes[gidx], goal)\n",
    "#     println(\"distance: \", dist)\n",
    "    if dist <= 0.\n",
    "      path = get_path(tree, gidx)\n",
    "      push!(path, goal)\n",
    "      return tree, path\n",
    "    end\n",
    "    patch_tree_step!(tree, arm, arm_origin, bounds, obstacles, patch_size_min=patch_size_min)\n",
    "  end\n",
    "end"
   ]
  },
  {
   "cell_type": "code",
   "execution_count": 245,
   "metadata": {},
   "outputs": [
    {
     "data": {
      "text/plain": [
       "(PatchTree(Any[[0.0, 0.0], [2.2655965916721934, 0.0], [-0.598785022776811, 0.0], [-0.598785022776811, -2.5773207151272923], [-0.598785022776811, -0.016542125635876277], [-0.598785022776811, 4.444836816959226], [-0.598785022776811, -1.7114612193413463], [-0.598785022776811, -6.452318354891472], [-0.598785022776811, 3.168794191036582], [2.2655965916721934, 0.26710447120653735]  …  [-0.598785022776811, -2.5224466513551764], [-1.1264322430662266, 4.6922106773750585], [2.2655965916721934, 0.1388206127903703], [-0.598785022776811, -2.7565560838524035], [-0.598785022776811, -0.24352824351912583], [-1.1264322430662266, -0.2442634960729526], [-0.598785022776811, 3.0521837886492937], [-0.598785022776811, -0.1349990634821895], [2.460076910560894, 0.06559971096743633], [2.022566096651009, 0.4558893060332612]], Any[[0.07540401167629347, 0.43434296305502], [0.4866530937930166, 0.4866530937930885], [0.46205263308565886, 1.4234579666376954], [0.40096743385584943, 0.79402146190501], [0.49002404063852845, 0.6959969805905001], [0.5132936858120197, 1.2148329895203789], [0.410457735436753, 0.6991393377292053], [0.4660623994800533, 1.055082542136886], [0.3965423538361896, 0.6907333863732082], [0.5251527582769139, 0.7040469707480709]  …  [0.574785559662647, 0.9697159325695626], [0.5419369787968091, 0.5539147621325081], [0.5003249992889293, 0.43902071786422564], [0.45919600102258085, 1.4049910935531043], [0.42085873740047497, 0.9735307028059506], [0.39490632613603843, 1.2272466402765356], [0.9319851530261076, 0.40526207660148356], [0.495514951360008, 0.6000150688329667], [0.5013267843220194, 0.9384522416009324], [0.7583056874252403, 2.242500471432959]], Array{Int64,1}[[1, 2], [3, 10, 25, 33, 78, 93, 228, 246, 331, 423  …  779, 828, 959, 962, 995, 1029, 1128, 1231, 1451, 1531], [4, 5, 19, 20, 34, 36, 42, 53, 59, 87  …  1513, 1516, 1522, 1525, 1535, 1553, 1560, 1561, 1564, 1579], [7, 8, 11, 102, 103, 104, 134, 210, 284, 368  …  1136, 1196, 1199, 1209, 1227, 1234, 1315, 1359, 1378, 1440], [6, 13, 81, 122, 259, 765, 797, 1067, 1430, 1537], [9], [12, 69, 76, 254, 270, 293, 314, 363, 381, 479  …  844, 852, 922, 951, 1024, 1074, 1118, 1264, 1312, 1509], [], [16, 65, 106, 186, 340, 366, 431, 574, 822, 1016, 1265, 1274, 1342, 1386, 1433, 1437, 1483, 1594], [99, 124, 180, 283, 354, 712, 784, 800, 868, 1103, 1150, 1221, 1385, 1423, 1492]  …  [], [], [], [], [], [], [], [], [], []], [1, 1, 2, 3, 3, 5, 4, 4, 6, 2  …  29, 1018, 354, 551, 127, 1329, 9, 87, 544, 1563]), Array{Float64,1}[[0.0, 0.0], [2.2655965916721934, 0.0], [2.2319536683690355, 0.0], [2.2319536683690355, 0.362774206731295], [2.022566096651009, 0.362774206731295], [2.022566096651009, 0.4073702063633373], [2.022566096651009, 0.6688921416346647], [2.022566096651009, 0.69108691427301], [2.022566096651009, 0.5053798607741358], [2.022566096651009, 0.4558893060332612], [1.5707963267948966, -1.5707963267948966]])"
      ]
     },
     "execution_count": 245,
     "metadata": {},
     "output_type": "execute_result"
    }
   ],
   "source": [
    "obstacles = [[.5, .6, .7], [3., 1., 2.], [2., 1., 2.], [0., 0., 1.], ]\n",
    "result_tree, path = patch_tree_goal([0., 0., 0.], arm, [0., 0.], DistancePlan.Box([-π, -π], [π, π]), obstacles, [π/2, -π/2])"
   ]
  },
  {
   "cell_type": "code",
   "execution_count": 246,
   "metadata": {},
   "outputs": [
    {
     "data": {
      "text/plain": [
       "11-element Array{Array{Float64,1},1}:\n",
       " [0.0, 0.0]                               \n",
       " [2.2655965916721934, 0.0]                \n",
       " [2.2319536683690355, 0.0]                \n",
       " [2.2319536683690355, 0.362774206731295]  \n",
       " [2.022566096651009, 0.362774206731295]   \n",
       " [2.022566096651009, 0.4073702063633373]  \n",
       " [2.022566096651009, 0.6688921416346647]  \n",
       " [2.022566096651009, 0.69108691427301]    \n",
       " [2.022566096651009, 0.5053798607741358]  \n",
       " [2.022566096651009, 0.4558893060332612]  \n",
       " [1.5707963267948966, -1.5707963267948966]"
      ]
     },
     "execution_count": 246,
     "metadata": {},
     "output_type": "execute_result"
    }
   ],
   "source": [
    "path"
   ]
  },
  {
   "cell_type": "code",
   "execution_count": 247,
   "metadata": {},
   "outputs": [],
   "source": [
    "delete!(vis)\n",
    "for (frame, angles) in enumerate(path)\n",
    "    joint_points = forward_kinematics(arm, [0., 0., 0.], angles)\n",
    "    draw_joint_points(joint_points, prefix=string(\"arm-frame\", frame))\n",
    "end\n",
    "draw_obstacles(obstacles)"
   ]
  },
  {
   "cell_type": "code",
   "execution_count": null,
   "metadata": {},
   "outputs": [],
   "source": []
  }
 ],
 "metadata": {
  "kernelspec": {
   "display_name": "Julia 1.2.0",
   "language": "julia",
   "name": "julia-1.2"
  },
  "language_info": {
   "file_extension": ".jl",
   "mimetype": "application/julia",
   "name": "julia",
   "version": "1.3.0"
  }
 },
 "nbformat": 4,
 "nbformat_minor": 4
}
