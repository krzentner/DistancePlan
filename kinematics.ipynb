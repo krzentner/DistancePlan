{
 "cells": [
  {
   "cell_type": "code",
   "execution_count": 1,
   "metadata": {},
   "outputs": [],
   "source": [
    "import Pkg"
   ]
  },
  {
   "cell_type": "code",
   "execution_count": 2,
   "metadata": {},
   "outputs": [
    {
     "name": "stdout",
     "output_type": "stream",
     "text": [
      "\u001b[32m\u001b[1mActivating\u001b[22m\u001b[39m environment at `~/DistancePlan/Project.toml`\n"
     ]
    }
   ],
   "source": [
    "Pkg.activate(\".\")"
   ]
  },
  {
   "cell_type": "code",
   "execution_count": 3,
   "metadata": {},
   "outputs": [
    {
     "name": "stderr",
     "output_type": "stream",
     "text": [
      "┌ Info: Precompiling Revise [295af30f-e4ad-537b-8983-00126c2a3abe]\n",
      "└ @ Base loading.jl:1273\n"
     ]
    }
   ],
   "source": [
    "using Revise"
   ]
  },
  {
   "cell_type": "code",
   "execution_count": 4,
   "metadata": {},
   "outputs": [],
   "source": [
    "using StaticArrays"
   ]
  },
  {
   "cell_type": "code",
   "execution_count": 9,
   "metadata": {},
   "outputs": [],
   "source": [
    "includet(\"src/DistancePlan.jl\")"
   ]
  },
  {
   "cell_type": "code",
   "execution_count": 12,
   "metadata": {},
   "outputs": [
    {
     "data": {
      "text/plain": [
       "Main.DistancePlan.Sphere([1.0 1.0], 2.0)"
      ]
     },
     "execution_count": 12,
     "metadata": {},
     "output_type": "execute_result"
    }
   ],
   "source": [
    "s1 = DistancePlan.Sphere([1. 1.], 2.)"
   ]
  },
  {
   "cell_type": "code",
   "execution_count": 13,
   "metadata": {},
   "outputs": [
    {
     "data": {
      "text/plain": [
       "Main.DistancePlan.Sphere([3.0 1.0], 1.0)"
      ]
     },
     "execution_count": 13,
     "metadata": {},
     "output_type": "execute_result"
    }
   ],
   "source": [
    "s2 = DistancePlan.Sphere([3. 1.], 1.)"
   ]
  },
  {
   "cell_type": "code",
   "execution_count": 14,
   "metadata": {},
   "outputs": [
    {
     "data": {
      "text/plain": [
       "2.0"
      ]
     },
     "execution_count": 14,
     "metadata": {},
     "output_type": "execute_result"
    }
   ],
   "source": [
    "d = DistancePlan.norm(s2.center - s1.center)"
   ]
  },
  {
   "cell_type": "code",
   "execution_count": null,
   "metadata": {},
   "outputs": [],
   "source": [
    "x = 2 * s1.radius ^ 2 - s2.radius ^ 2 / (2 * s1.radius)"
   ]
  },
  {
   "cell_type": "code",
   "execution_count": 17,
   "metadata": {},
   "outputs": [
    {
     "data": {
      "text/plain": [
       "cone_angle (generic function with 1 method)"
      ]
     },
     "execution_count": 17,
     "metadata": {},
     "output_type": "execute_result"
    }
   ],
   "source": [
    "function cone_angle(sphere_a, sphere_b)\n",
    "    assert(isapprox(sum((sphere_a.center - sphere_b.center) ^ 2), sphere_a.radius ^2))\n",
    "    # \"Align\" the spheres along the x axis, and take an arbitrary orthogonal y axis.\n",
    "    # Then we would have the following equations:\n",
    "    #   x^2 + y^2 = R^2\n",
    "    #   (x - R)^2 + y^2 = r^2\n",
    "    # Solving for y^2:\n",
    "    #   x^2 + y^2 = R^2         =>   y^2 = R^2 - x^2\n",
    "    #   (x - R)^2 + y^2 = r^2   =>   y^2 = r^2 - (x - R)^2\n",
    "    # Combining the equations:\n",
    "    #   R^2 - x^2 = r^2 - (x - R)^2\n",
    "    #   R^2 - x^2 - r^2 + (x^2 - 2xR + R^2) = 0\n",
    "    #   -x^2 + x^2 - 2Rx + 2R^2 - r^2 = 0\n",
    "    #   -2Rx = -2R^2 + r^2\n",
    "    #   x = (2R^2 - r^2) / 2R\n",
    "    x = (2 * sphere_a.radius ^ 2 - sphere_b.radius^2) / (2 * sphere_a.radius)\n",
    "    # Now we need the angle, so we use cos(x / R):\n",
    "    return cos(x / sphere_a.radius)\n",
    "end"
   ]
  },
  {
   "cell_type": "code",
   "execution_count": null,
   "metadata": {},
   "outputs": [],
   "source": [
    "function lens_center(sphere_a, sphere_b)\n",
    "    offset = sphere_a.center - sphere_b.center\n",
    "    d = sqrt(sum(offset .^ 2))\n",
    "    # \"Align\" the spheres along the x axis, and take an arbitrary orthogonal y axis.\n",
    "    # Then we would have the following equations:\n",
    "    #   x^2 + y^2 = R^2\n",
    "    #   (x - d)^2 + y^2 = r^2\n",
    "    # Solving for y^2:\n",
    "    #   x^2 + y^2 = R^2         =>   y^2 = R^2 - x^2\n",
    "    #   (x - d)^2 + y^2 = r^2   =>   y^2 = r^2 - (x - d)^2\n",
    "    # Combining the equations:\n",
    "    #   R^2 - x^2 = r^2 - (x - R)^2\n",
    "    #   R^2 - x^2 - r^2 + (x^2 - 2xd + d^2) = 0\n",
    "    #   -x^2 + x^2 - 2dx + d^2 + R^2 - r^2 = 0\n",
    "    #   -2dx = -2R^2 + r^2\n",
    "    #   x = (d^2 + R^2 - r^2) / 2d\n",
    "    x = (d ^ 2 + sphere_a.radius ^ 2 - sphere_b.radius^2) / (2 * d)\n",
    "    return sphere_a.center +. offset * (x / d)\n",
    "end"
   ]
  },
  {
   "cell_type": "code",
   "execution_count": 18,
   "metadata": {},
   "outputs": [],
   "source": [
    "using LinearAlgebra"
   ]
  },
  {
   "cell_type": "code",
   "execution_count": 20,
   "metadata": {},
   "outputs": [],
   "source": [
    "struct Arm\n",
    "    lengths\n",
    "    joint_lows\n",
    "    joint_highs\n",
    "end"
   ]
  },
  {
   "cell_type": "code",
   "execution_count": 38,
   "metadata": {},
   "outputs": [
    {
     "data": {
      "text/plain": [
       "11-element Array{Float64,1}:\n",
       " 1.0\n",
       " 1.2\n",
       " 1.4\n",
       " 1.6\n",
       " 1.8\n",
       " 2.0\n",
       " 2.2\n",
       " 2.4\n",
       " 2.6\n",
       " 2.8\n",
       " 3.0"
      ]
     },
     "execution_count": 38,
     "metadata": {},
     "output_type": "execute_result"
    }
   ],
   "source": [
    "Vector(s1.center[1]:.2:s2.center[1])"
   ]
  },
  {
   "cell_type": "code",
   "execution_count": 43,
   "metadata": {},
   "outputs": [
    {
     "data": {
      "text/plain": [
       "query_spheres (generic function with 2 methods)"
      ]
     },
     "execution_count": 43,
     "metadata": {},
     "output_type": "execute_result"
    }
   ],
   "source": [
    "function query_spheres(joint_locations, obstacles, points_per_link=3)\n",
    "    Channel() do channel\n",
    "        for i in 1:(length(joint_locations) - 1)\n",
    "            start = joint_locations[i]\n",
    "            stop = joint_locations[i + 1]\n",
    "            for point in LinRange(start, stop, points_per_link)\n",
    "                d = DistancePlan.distance(point, obstacles)\n",
    "                put!(channel, (i, DistancePlan.Sphere(point, d)))\n",
    "            end\n",
    "        end\n",
    "    end\n",
    "end"
   ]
  },
  {
   "cell_type": "code",
   "execution_count": 49,
   "metadata": {},
   "outputs": [
    {
     "name": "stdout",
     "output_type": "stream",
     "text": [
      "1: Main.DistancePlan.Sphere([0.0, 0.0], 0.7810249675906654)\n",
      "1: Main.DistancePlan.Sphere([0.5, 0.5], 0.09999999999999998)\n",
      "1: Main.DistancePlan.Sphere([1.0, 1.0], 0.6403124237432849)\n",
      "2: Main.DistancePlan.Sphere([1.0, 1.0], 0.6403124237432849)\n",
      "2: Main.DistancePlan.Sphere([1.5, 1.0], 1.077032961426901)\n",
      "2: Main.DistancePlan.Sphere([2.0, 1.0], 1.5524174696260025)\n"
     ]
    }
   ],
   "source": [
    "for (link_number, sphere) in query_spheres([[0., 0.], [1., 1.], [2., 1.]], [[.5, .6]]\n",
    "    println(link_number, \": \", sphere)\n",
    "end"
   ]
  },
  {
   "cell_type": "code",
   "execution_count": 42,
   "metadata": {},
   "outputs": [
    {
     "data": {
      "text/plain": [
       "3-element LinRange{Array{Float64,2}}:\n",
       " [1.0 1.0],[2.0 1.0],[3.0 1.0]"
      ]
     },
     "execution_count": 42,
     "metadata": {},
     "output_type": "execute_result"
    }
   ],
   "source": [
    "LinRange(s1.center, s2.center, 3)"
   ]
  },
  {
   "cell_type": "markdown",
   "metadata": {},
   "source": [
    "Generally, the kinematic volume planning algorithm extension step works as follows:\n",
    "\n",
    "For each linkage, sample distances along that linkage, producing a sequence of hyper-spheres.\n",
    "For each pair of adjacent hyper-spheres in the sequence, compute the largest hyper-sphere which overlaps both of them, by finding the hyper-sphere one dimension lower. These overlap hyper-spheres are called the \"safe spheres.\"\n",
    "For each joint, compute the angle that joint can move in each safe sphere after it in the kinematic chain. Take the smallest of these angles for that joint. That is the joints \"safe angle.\"\n",
    "\n",
    "Save all joints patch angles (as well as the central angle) as a patch into the patch tree.\n",
    "\n",
    "When executing motion within the patch, the sum of angles divided by their respective safe angles should be less than one. This produces a diagonal patch in the angle space.\n",
    "\n",
    "The reason this works is that change in angle corresponds to change in the distance of the linkage to the safe circle. Specifically, it corresponds to a portion of the distance equal the ratio of the angle over the safe angle. Alternatively, this can be seen as adding the fractions of the arcs together which the different joints would sweep out. Since the arcs aren't overlapping (assuming linkages have non-zero length), the length of their arc lengths in sequence will always be greater than the distance between their joined endpoints (i.e. the triangle inequality). However, this bound is not tight. For example, linkages at orthogonal angles can get arbitrarily close to their full individual ranges of motion. Unfortunately, performing projections on a shape that tightly bounds the safe angle space corresponding to the safe spheres would be quite difficult, since every such shape would be different. This bound can be arbitrarily close to tight, if the two joints are close to each other, and the second linkage is very long."
   ]
  },
  {
   "cell_type": "code",
   "execution_count": null,
   "metadata": {},
   "outputs": [],
   "source": [
    "struct PatchTree\n",
    "  centers::Vector\n",
    "  patch_sizes::Vector\n",
    "  children::Vector{Vector{Int}}\n",
    "  parent::Vector{Int}\n",
    "  PatchTree() = new([], [], [], [])\n",
    "end"
   ]
  }
 ],
 "metadata": {
  "kernelspec": {
   "display_name": "Julia 1.2.0",
   "language": "julia",
   "name": "julia-1.2"
  },
  "language_info": {
   "file_extension": ".jl",
   "mimetype": "application/julia",
   "name": "julia",
   "version": "1.3.0"
  }
 },
 "nbformat": 4,
 "nbformat_minor": 4
}
